{
  "nbformat": 4,
  "nbformat_minor": 0,
  "metadata": {
    "colab": {
      "provenance": []
    },
    "kernelspec": {
      "name": "python3",
      "display_name": "Python 3"
    },
    "language_info": {
      "name": "python"
    }
  },
  "cells": [
    {
      "cell_type": "code",
      "source": [
        "import pandas as pd\n",
        "import numpy as np\n",
        "\n",
        "import warnings\n",
        "warnings.filterwarnings(\"ignore\")\n",
        "\n",
        "#for text pre-processing\n",
        "import re, string\n",
        "import nltk\n",
        "from nltk.tokenize import word_tokenize\n",
        "from nltk.corpus import stopwords\n",
        "from nltk.tokenize import word_tokenize\n",
        "from nltk.stem import SnowballStemmer\n",
        "from nltk.corpus import wordnet\n",
        "from nltk.stem import WordNetLemmatizer\n",
        "nltk.download('punkt')\n",
        "nltk.download('averaged_perceptron_tagger')\n",
        "nltk.download('wordnet')\n",
        "\n",
        "#for model-building\n",
        "from sklearn.model_selection import train_test_split\n",
        "from sklearn.linear_model import LogisticRegression\n",
        "from sklearn.naive_bayes import MultinomialNB\n",
        "from sklearn.metrics import classification_report, f1_score, accuracy_score, confusion_matrix\n",
        "from sklearn.metrics import roc_curve, auc, roc_auc_score\n",
        "\n",
        "# bag of words\n",
        "from sklearn.feature_extraction.text import TfidfVectorizer\n",
        "from sklearn.feature_extraction.text import CountVectorizer\n",
        "\n",
        "#for word embedding\n",
        "import gensim\n",
        "from gensim.models import Word2Vec"
      ],
      "metadata": {
        "id": "SQgKGFA8zEUN",
        "colab": {
          "base_uri": "https://localhost:8080/"
        },
        "outputId": "584271a7-6b96-4e4a-a527-a35c3b3266b7"
      },
      "execution_count": null,
      "outputs": [
        {
          "output_type": "stream",
          "name": "stderr",
          "text": [
            "[nltk_data] Downloading package punkt to /root/nltk_data...\n",
            "[nltk_data]   Unzipping tokenizers/punkt.zip.\n",
            "[nltk_data] Downloading package averaged_perceptron_tagger to\n",
            "[nltk_data]     /root/nltk_data...\n",
            "[nltk_data]   Unzipping taggers/averaged_perceptron_tagger.zip.\n",
            "[nltk_data] Downloading package wordnet to /root/nltk_data...\n"
          ]
        }
      ]
    },
    {
      "cell_type": "code",
      "source": [
        "data = pd.read_csv('Data.csv',sep=\",\", encoding='cp1252')"
      ],
      "metadata": {
        "id": "dMkwGQbjzG06"
      },
      "execution_count": null,
      "outputs": []
    },
    {
      "cell_type": "code",
      "source": [
        "data.isna().sum()"
      ],
      "metadata": {
        "colab": {
          "base_uri": "https://localhost:8080/"
        },
        "id": "njX7SEvF7-Yx",
        "outputId": "4880b077-fd41-4ff8-9644-42d0c71af347"
      },
      "execution_count": null,
      "outputs": [
        {
          "output_type": "execute_result",
          "data": {
            "text/plain": [
              "S.No             0\n",
              "organization     0\n",
              "Category        74\n",
              "text             0\n",
              "dtype: int64"
            ]
          },
          "metadata": {},
          "execution_count": 3
        }
      ]
    },
    {
      "cell_type": "code",
      "source": [
        "data"
      ],
      "metadata": {
        "colab": {
          "base_uri": "https://localhost:8080/",
          "height": 424
        },
        "id": "YqzgRR9T8zel",
        "outputId": "8688ee8e-fda6-47e7-9e3e-185bc935dfe8"
      },
      "execution_count": null,
      "outputs": [
        {
          "output_type": "execute_result",
          "data": {
            "text/plain": [
              "    S.No organization  Category  \\\n",
              "0      1   PeopleSoft       NaN   \n",
              "1      2   PeopleSoft       NaN   \n",
              "2      3   PeopleSoft       NaN   \n",
              "3      4   PeopleSoft       NaN   \n",
              "4      5   PeopleSoft       NaN   \n",
              "..   ...          ...       ...   \n",
              "69    70      WorkDay       NaN   \n",
              "70    71      WorkDay       NaN   \n",
              "71    72      WorkDay       NaN   \n",
              "72    73      WorkDay       NaN   \n",
              "73    74      WorkDay       NaN   \n",
              "\n",
              "                                                 text  \n",
              "0   Anubhav Kumar Singh  \\n\\n  To work in a global...  \n",
              "1   Profile Summary:          \\n?7+ years of exper...  \n",
              "2   PeopleSoft Database Administrator\\n           ...  \n",
              "3   Murali\\n\\nExperience Summary \\n\\nI have 6 year...  \n",
              "4   Priyanka Ramadoss\\n61/46, MountPleasant, \\nCoo...  \n",
              "..                                                ...  \n",
              "69  Workday Integration Consultant\\n\\nName        ...  \n",
              "70  Seeking suitable positions in Workday HCM  as ...  \n",
              "71  WORKDAY | HCM | FCM\\nName   : Kumar S.S\\nRole ...  \n",
              "72  Venkateswarlu.B        Workday Consultant     ...  \n",
              "73  Vinay kumar .v\\nWorkday Functional Consultant\\...  \n",
              "\n",
              "[74 rows x 4 columns]"
            ],
            "text/html": [
              "\n",
              "  <div id=\"df-ada816a3-f60d-4841-b2b2-6994ba36abd6\">\n",
              "    <div class=\"colab-df-container\">\n",
              "      <div>\n",
              "<style scoped>\n",
              "    .dataframe tbody tr th:only-of-type {\n",
              "        vertical-align: middle;\n",
              "    }\n",
              "\n",
              "    .dataframe tbody tr th {\n",
              "        vertical-align: top;\n",
              "    }\n",
              "\n",
              "    .dataframe thead th {\n",
              "        text-align: right;\n",
              "    }\n",
              "</style>\n",
              "<table border=\"1\" class=\"dataframe\">\n",
              "  <thead>\n",
              "    <tr style=\"text-align: right;\">\n",
              "      <th></th>\n",
              "      <th>S.No</th>\n",
              "      <th>organization</th>\n",
              "      <th>Category</th>\n",
              "      <th>text</th>\n",
              "    </tr>\n",
              "  </thead>\n",
              "  <tbody>\n",
              "    <tr>\n",
              "      <th>0</th>\n",
              "      <td>1</td>\n",
              "      <td>PeopleSoft</td>\n",
              "      <td>NaN</td>\n",
              "      <td>Anubhav Kumar Singh  \\n\\n  To work in a global...</td>\n",
              "    </tr>\n",
              "    <tr>\n",
              "      <th>1</th>\n",
              "      <td>2</td>\n",
              "      <td>PeopleSoft</td>\n",
              "      <td>NaN</td>\n",
              "      <td>Profile Summary:          \\n?7+ years of exper...</td>\n",
              "    </tr>\n",
              "    <tr>\n",
              "      <th>2</th>\n",
              "      <td>3</td>\n",
              "      <td>PeopleSoft</td>\n",
              "      <td>NaN</td>\n",
              "      <td>PeopleSoft Database Administrator\\n           ...</td>\n",
              "    </tr>\n",
              "    <tr>\n",
              "      <th>3</th>\n",
              "      <td>4</td>\n",
              "      <td>PeopleSoft</td>\n",
              "      <td>NaN</td>\n",
              "      <td>Murali\\n\\nExperience Summary \\n\\nI have 6 year...</td>\n",
              "    </tr>\n",
              "    <tr>\n",
              "      <th>4</th>\n",
              "      <td>5</td>\n",
              "      <td>PeopleSoft</td>\n",
              "      <td>NaN</td>\n",
              "      <td>Priyanka Ramadoss\\n61/46, MountPleasant, \\nCoo...</td>\n",
              "    </tr>\n",
              "    <tr>\n",
              "      <th>...</th>\n",
              "      <td>...</td>\n",
              "      <td>...</td>\n",
              "      <td>...</td>\n",
              "      <td>...</td>\n",
              "    </tr>\n",
              "    <tr>\n",
              "      <th>69</th>\n",
              "      <td>70</td>\n",
              "      <td>WorkDay</td>\n",
              "      <td>NaN</td>\n",
              "      <td>Workday Integration Consultant\\n\\nName        ...</td>\n",
              "    </tr>\n",
              "    <tr>\n",
              "      <th>70</th>\n",
              "      <td>71</td>\n",
              "      <td>WorkDay</td>\n",
              "      <td>NaN</td>\n",
              "      <td>Seeking suitable positions in Workday HCM  as ...</td>\n",
              "    </tr>\n",
              "    <tr>\n",
              "      <th>71</th>\n",
              "      <td>72</td>\n",
              "      <td>WorkDay</td>\n",
              "      <td>NaN</td>\n",
              "      <td>WORKDAY | HCM | FCM\\nName   : Kumar S.S\\nRole ...</td>\n",
              "    </tr>\n",
              "    <tr>\n",
              "      <th>72</th>\n",
              "      <td>73</td>\n",
              "      <td>WorkDay</td>\n",
              "      <td>NaN</td>\n",
              "      <td>Venkateswarlu.B        Workday Consultant     ...</td>\n",
              "    </tr>\n",
              "    <tr>\n",
              "      <th>73</th>\n",
              "      <td>74</td>\n",
              "      <td>WorkDay</td>\n",
              "      <td>NaN</td>\n",
              "      <td>Vinay kumar .v\\nWorkday Functional Consultant\\...</td>\n",
              "    </tr>\n",
              "  </tbody>\n",
              "</table>\n",
              "<p>74 rows × 4 columns</p>\n",
              "</div>\n",
              "      <button class=\"colab-df-convert\" onclick=\"convertToInteractive('df-ada816a3-f60d-4841-b2b2-6994ba36abd6')\"\n",
              "              title=\"Convert this dataframe to an interactive table.\"\n",
              "              style=\"display:none;\">\n",
              "        \n",
              "  <svg xmlns=\"http://www.w3.org/2000/svg\" height=\"24px\"viewBox=\"0 0 24 24\"\n",
              "       width=\"24px\">\n",
              "    <path d=\"M0 0h24v24H0V0z\" fill=\"none\"/>\n",
              "    <path d=\"M18.56 5.44l.94 2.06.94-2.06 2.06-.94-2.06-.94-.94-2.06-.94 2.06-2.06.94zm-11 1L8.5 8.5l.94-2.06 2.06-.94-2.06-.94L8.5 2.5l-.94 2.06-2.06.94zm10 10l.94 2.06.94-2.06 2.06-.94-2.06-.94-.94-2.06-.94 2.06-2.06.94z\"/><path d=\"M17.41 7.96l-1.37-1.37c-.4-.4-.92-.59-1.43-.59-.52 0-1.04.2-1.43.59L10.3 9.45l-7.72 7.72c-.78.78-.78 2.05 0 2.83L4 21.41c.39.39.9.59 1.41.59.51 0 1.02-.2 1.41-.59l7.78-7.78 2.81-2.81c.8-.78.8-2.07 0-2.86zM5.41 20L4 18.59l7.72-7.72 1.47 1.35L5.41 20z\"/>\n",
              "  </svg>\n",
              "      </button>\n",
              "      \n",
              "  <style>\n",
              "    .colab-df-container {\n",
              "      display:flex;\n",
              "      flex-wrap:wrap;\n",
              "      gap: 12px;\n",
              "    }\n",
              "\n",
              "    .colab-df-convert {\n",
              "      background-color: #E8F0FE;\n",
              "      border: none;\n",
              "      border-radius: 50%;\n",
              "      cursor: pointer;\n",
              "      display: none;\n",
              "      fill: #1967D2;\n",
              "      height: 32px;\n",
              "      padding: 0 0 0 0;\n",
              "      width: 32px;\n",
              "    }\n",
              "\n",
              "    .colab-df-convert:hover {\n",
              "      background-color: #E2EBFA;\n",
              "      box-shadow: 0px 1px 2px rgba(60, 64, 67, 0.3), 0px 1px 3px 1px rgba(60, 64, 67, 0.15);\n",
              "      fill: #174EA6;\n",
              "    }\n",
              "\n",
              "    [theme=dark] .colab-df-convert {\n",
              "      background-color: #3B4455;\n",
              "      fill: #D2E3FC;\n",
              "    }\n",
              "\n",
              "    [theme=dark] .colab-df-convert:hover {\n",
              "      background-color: #434B5C;\n",
              "      box-shadow: 0px 1px 3px 1px rgba(0, 0, 0, 0.15);\n",
              "      filter: drop-shadow(0px 1px 2px rgba(0, 0, 0, 0.3));\n",
              "      fill: #FFFFFF;\n",
              "    }\n",
              "  </style>\n",
              "\n",
              "      <script>\n",
              "        const buttonEl =\n",
              "          document.querySelector('#df-ada816a3-f60d-4841-b2b2-6994ba36abd6 button.colab-df-convert');\n",
              "        buttonEl.style.display =\n",
              "          google.colab.kernel.accessAllowed ? 'block' : 'none';\n",
              "\n",
              "        async function convertToInteractive(key) {\n",
              "          const element = document.querySelector('#df-ada816a3-f60d-4841-b2b2-6994ba36abd6');\n",
              "          const dataTable =\n",
              "            await google.colab.kernel.invokeFunction('convertToInteractive',\n",
              "                                                     [key], {});\n",
              "          if (!dataTable) return;\n",
              "\n",
              "          const docLinkHtml = 'Like what you see? Visit the ' +\n",
              "            '<a target=\"_blank\" href=https://colab.research.google.com/notebooks/data_table.ipynb>data table notebook</a>'\n",
              "            + ' to learn more about interactive tables.';\n",
              "          element.innerHTML = '';\n",
              "          dataTable['output_type'] = 'display_data';\n",
              "          await google.colab.output.renderOutput(dataTable, element);\n",
              "          const docLink = document.createElement('div');\n",
              "          docLink.innerHTML = docLinkHtml;\n",
              "          element.appendChild(docLink);\n",
              "        }\n",
              "      </script>\n",
              "    </div>\n",
              "  </div>\n",
              "  "
            ]
          },
          "metadata": {},
          "execution_count": 4
        }
      ]
    },
    {
      "cell_type": "code",
      "source": [
        "data['text'][55]"
      ],
      "metadata": {
        "colab": {
          "base_uri": "https://localhost:8080/",
          "height": 139
        },
        "id": "wFGdeg069ByA",
        "outputId": "5938e2b8-7f76-4638-c637-b107e5bb5830"
      },
      "execution_count": null,
      "outputs": [
        {
          "output_type": "execute_result",
          "data": {
            "text/plain": [
              "\"Hari Krishna M\\n\\n\\nSummary:\\n?A result oriented professional with 6.10 yrs. of experience in Software Engineering with 3.10 yrs. of relevant experience in Workday Consultant.\\n?Exceptional ability in understanding the business needs and improving the process.\\n?Excellent communication skills and proven experience in working independently as well as in a team.\\n?Involved in preparing business requirement documents and analysis of client functional requirements.\\n?Extensive knowledge on Complete Tenant configurations – (Supervisory Organizations, Roles, Compensation, Business Processes)\\n?Configuration of Supervisory Organizations, Job Profiles & Positions, Compensation (salary plans based on different grades, grade profiles and allowances), Security and Business Processes.\\n?Day to day support of\\xa0Workday\\xa0HCM, Security, Compensation, reporting issues and implementing enhancements when needed.\\n?Created Custom Reports and scheduled reports as requested by end-users.\\n?Worked on modifying/troubleshooting/enhancing existing custom reports using Calculated Fields.\\n?Created and used calculated fields in reporting, business processes, and integrations within\\xa0Workday.\\xa0\\n?Experience in performing HCM tasks like defining Job Profiles, position creations, employee hiring, transfers, promotions, demotions and terminations etc., as part of Workday Testing requirements.\\n?Understanding and careful analysis of the Internal HR team requirements.\\n?Setting up the Email notifications and Business Process configurations.\\n?Excellent object management skills in\\xa0Workday\\xa0like configuring Supervisory/Matrix Organizations (Divide organizations, Inactivate Organizations, create subordinates).\\n?Extensive knowledge on other HCM Org structures like Custom Organizations and Service Center Organizations.\\n?Experience in creating Job Profiles, Job Families and Job Family Groups, also worked with the creation and maintenance of position and job staffing models.\\n?Experienced in\\xa0WORKDAY\\xa0security related to creating and assigning Users / Roles Permissions.\\n?Involved in\\xa0Workday\\xa0HCM for various HR modules such as Compensation, Time Tracking, Security and Absence Management.\\n?Excellent interpersonal skills with a strong desire to achieve specified goals. \\n?Support the team with product backlog grooming activities\\n?A valuable team player with capability to share the team vision and achieve goals and deadlines\\nWork Experience:\\n?Working as Workday Consultant at CTS from Mar- 2019 To till date (Parent Company- Riosoft Technologies)\\n?Worked as Workday Developer for TCS from Aug- 2014 To Feb 2019\\n\\nEducation:\\nMCA from JNTU University, Kakinada in 2013.\\n\\nTechnical Skills:\\nERP Systems Workday, PeopleSoft\\nWorkday Modules Core HCM, Compensation, Benefits and Absence management.\\nWorkday Skills Integrations-EIB, Studio, Reports, Calculated Fields, Business Processes, Dashboards.\\nDatabase Technologies Oracle 10g,11i\\nOperating Systems MS-DOS, Windows XP/ 7, Windows Server 2008, UNIX\\n\\nProfessional Background:\\nProject#1\\nNCR – Workday Implementation/Enhancements                                                 Mar 2019 –Till Date\\nNCR Corporation                                                                                      Mar 2019 -Till Date\\nDescription:\\nThe\\xa0NCR Corporation\\xa0(formerly\\xa0National Cash Register) is US-Based computer hardware, software and Electronics Company that provides products and services that enable businesses to connect interact and transact with their customers. Its main products are self-service kiosks,\\xa0point-of-sale terminals,\\xa0automated teller machines,\\xa0check\\xa0processing systems,\\xa0barcode scanners, and business consumables. They also provide IT maintenance support services.\\n\\nRoles &Responsibilities\\n?Understanding and analyzing the Business Requirements by studying the Functional Documents.\\n?Responsible for data migration from legacy system to workday using EIB.\\n?Worked with workday studio to fix integration related issues.\\n?Built many Enterprise interface builders (EIB’s) on inbound and core connector worker and benefits On outbound’s\\n?Create the new workday studio programs to sending AI-Statement to worker documents using BIRT layout.\\n?Creating the custom reports as per the client requirement and preparing the UTP documents.\\n?Created Workday Studio inbound studio programs to load compensation information from ADP to workday.\\n?Hands-on experience In Migrating the XSLT Code, Reports from Lower tenet to Sandbox and Production using Object Transporter. \\n?Created EIB Inbound Integrations for loading the employees personal Information like, Emergency contacts, Compensation, One-time payments, Bank account information, cost center information.\\n?Created EIB outbound Integrations, written XSLT code and sending data from workday to downstream systems.\\n?Hands-on experience in creating the calculated fields using different functions for complete logics. \\n?Supporting the Different teams in UAT phase as well as with test factory teams during integration testing phase.\\n?Involved in calls with client and update the work status as well as clarifications if any.\\nEnvironment: Workday HCM, Workday Studio, XML, Web Services, XSLT 2.0, Report Writer.\\n\\n\\n\\nProject#2:\\nTCS                                                                               Aug 2017 – Feb 2019\\nToyota    \\nDescription:\\nToyota Motor Corporation, usually shortened to Toyota, is a Japanese multinational automotive manufacturer headquartered in Toyota, Aichi, Japan. In 2017, Toyota's corporate structure consisted of 364,445 employees worldwide and, as of September 2018, was the sixth-largest company in the world by revenue. As of 2017, Toyota is the world's second-largest automotive manufacturer. Toyota was the world's first automobile manufacturer to produce more than 10 million vehicles per year which it has done since 2012, when it also reported the production of its 200-millionth vehicle. As of July\\xa02014, Toyota was the largest listed company in Japan by revenue.\\nRoles &Responsibilities:\\n?Experienced to work with\\xa0Workday\\xa0Report Writer and creating custom integrations with third party applications using Workday Core Connector and Enterprise Interface Builder (EIB).\\n?Knowledge of Domain, Role and User based security.\\n?Using sequence generators, generating templates and validating inbound integration system results.\\n?Created new integration to pull the new hires information using Core Connector Worker and Document Transformation which uses connector integrations XML Output as its data source input.\\n?Creating the new business processes and notifications in deployment and sandbox tenants based on the designed business flow diagrams.\\n?Developed Several Complex Integrations using Workday Studio and EIB.\\n?Created test data and executed Test cases for System testing. Created test scenarios and test cases and coordinated the testing\\xa0effort with all the stakeholders for System and UAT.\\n?Day to day support of Workday HCM, Security, Payroll, Benefits, Compensation and Reporting issues\\n?Involved in the design phase and prototyping for further discussions with the client.\\n?Experienced to work with\\xa0Workday\\xa0Report Writer and BIRT tool and creating custom integrations with third party applications using Workday Cloud Connect and Enterprise Interface Builder (EIB).\\n?Created and used calculated fields in reporting, business processes, integrations and other areas within Workday.\\nEnvironment: Workday HCM, Core Connecters, Absent management, Workday Studio, XML, XSLT, Xpath, Oxygen XML.\\n\\nProject#3\\nCatamaran, Schaumburg, IL USA\\nCatamaran Rx                                                                               Aug 2014 –Jul 2017 \\nRoles&Responsibilities:\\n?Lead day-to-day operations of the PeopleSoft Technical teams (including Off-Shore) with business assignments, technical development, support, and issue resolution\\n?Technical Lead for FY14 Compensation, Pharma Spin-off from PeopleSoft HCM system, eV3 applicant conversion into PeopleSoft and Resume Parsing integration with PeopleSoft\\n?Ensure project team follows methodology selected for projects and produces quality deliverables\\n?Participated in the design effort by assisting in the development of design specifications applying business expertise and best business practices.\\n?Highly experienced with PeopleSoft Manager Self Service & Employee Self Service applications\\n\\nEnvironment:PeopleSoft HCM 9.1, People Tools 8.51, Oracle 11i\""
            ],
            "application/vnd.google.colaboratory.intrinsic+json": {
              "type": "string"
            }
          },
          "metadata": {},
          "execution_count": 6
        }
      ]
    },
    {
      "cell_type": "code",
      "source": [
        "from sklearn.feature_extraction.text import CountVectorizer\n",
        "\n",
        "count_vect = CountVectorizer(max_df=0.8, min_df=2, stop_words='english')\n",
        "doc_term_matrix = count_vect.fit_transform(data['text'].values.astype('U'))"
      ],
      "metadata": {
        "id": "tLIs2K909Nn2"
      },
      "execution_count": null,
      "outputs": []
    },
    {
      "cell_type": "code",
      "source": [
        "doc_term_matrix"
      ],
      "metadata": {
        "colab": {
          "base_uri": "https://localhost:8080/"
        },
        "id": "ozRinzf29VjG",
        "outputId": "9d846497-ba31-473c-a54e-87994055cf70"
      },
      "execution_count": null,
      "outputs": [
        {
          "output_type": "execute_result",
          "data": {
            "text/plain": [
              "<74x2161 sparse matrix of type '<class 'numpy.int64'>'\n",
              "\twith 16785 stored elements in Compressed Sparse Row format>"
            ]
          },
          "metadata": {},
          "execution_count": 9
        }
      ]
    },
    {
      "cell_type": "code",
      "source": [
        "from sklearn.decomposition import LatentDirichletAllocation\n",
        "\n",
        "LDA = LatentDirichletAllocation(n_components=5, random_state=42)\n",
        "LDA.fit(doc_term_matrix)"
      ],
      "metadata": {
        "colab": {
          "base_uri": "https://localhost:8080/"
        },
        "id": "UIIURJTV9eXs",
        "outputId": "197e16bb-b092-476f-9068-8edb9a0af0f9"
      },
      "execution_count": null,
      "outputs": [
        {
          "output_type": "execute_result",
          "data": {
            "text/plain": [
              "LatentDirichletAllocation(n_components=5, random_state=42)"
            ]
          },
          "metadata": {},
          "execution_count": 10
        }
      ]
    },
    {
      "cell_type": "code",
      "source": [
        "import random\n",
        "\n",
        "for i in range(10):\n",
        "    random_id = random.randint(0,len(count_vect.get_feature_names()))\n",
        "    print(count_vect.get_feature_names()[random_id])"
      ],
      "metadata": {
        "colab": {
          "base_uri": "https://localhost:8080/"
        },
        "id": "PXCAYblO9myX",
        "outputId": "cc204b61-f4de-4cf6-d58d-9f7e78edfeff"
      },
      "execution_count": null,
      "outputs": [
        {
          "output_type": "stream",
          "name": "stdout",
          "text": [
            "movements\n",
            "multiple\n",
            "mentor\n",
            "https\n",
            "involved\n",
            "budget\n",
            "bachelors\n",
            "27\n",
            "pub\n",
            "edge\n"
          ]
        }
      ]
    },
    {
      "cell_type": "code",
      "source": [
        "first_topic = LDA.components_[0]"
      ],
      "metadata": {
        "id": "p69qHguF9uqL"
      },
      "execution_count": null,
      "outputs": []
    },
    {
      "cell_type": "code",
      "source": [
        "top_topic_words = first_topic.argsort()[-10:]\n",
        "top_topic_words"
      ],
      "metadata": {
        "colab": {
          "base_uri": "https://localhost:8080/"
        },
        "id": "BV2mNr-A9yAR",
        "outputId": "f8237cf8-4260-4c59-90f9-432be79d89c7"
      },
      "execution_count": null,
      "outputs": [
        {
          "output_type": "execute_result",
          "data": {
            "text/plain": [
              "array([1539,  404, 1961,  897,  853,  734, 1984, 1413, 1411,  197])"
            ]
          },
          "metadata": {},
          "execution_count": 13
        }
      ]
    },
    {
      "cell_type": "code",
      "source": [
        "for i in top_topic_words:\n",
        "    print(count_vect.get_feature_names()[i])"
      ],
      "metadata": {
        "colab": {
          "base_uri": "https://localhost:8080/"
        },
        "id": "jaEe9qRD985U",
        "outputId": "e3b3eda3-491c-4cf0-f721-3bcda0d0bc9b"
      },
      "execution_count": null,
      "outputs": [
        {
          "output_type": "stream",
          "name": "stdout",
          "text": [
            "ps\n",
            "code\n",
            "testing\n",
            "good\n",
            "fscm\n",
            "engine\n",
            "tools\n",
            "peoplesoft\n",
            "people\n",
            "application\n"
          ]
        }
      ]
    },
    {
      "cell_type": "code",
      "source": [
        "for i,topic in enumerate(LDA.components_):\n",
        "    print(f'Top 10 words for topic #{i}:')\n",
        "    print([count_vect.get_feature_names()[i] for i in topic.argsort()[-10:]])\n",
        "    print('\\n')"
      ],
      "metadata": {
        "colab": {
          "base_uri": "https://localhost:8080/"
        },
        "id": "KLCflxMj-CI0",
        "outputId": "a6ecfd52-64b3-4eda-f5af-47f9ee703202"
      },
      "execution_count": null,
      "outputs": [
        {
          "output_type": "stream",
          "name": "stdout",
          "text": [
            "Top 10 words for topic #0:\n",
            "['ps', 'code', 'testing', 'good', 'fscm', 'engine', 'tools', 'peoplesoft', 'people', 'application']\n",
            "\n",
            "\n",
            "Top 10 words for topic #1:\n",
            "['queries', 'developer', 'functions', 'development', 'database', 'team', 'services', 'server', 'data', 'sql']\n",
            "\n",
            "\n",
            "Top 10 words for topic #2:\n",
            "['scheduler', 'domains', 'oracle', 'web', 'process', 'servers', 'database', 'server', 'application', 'peoplesoft']\n",
            "\n",
            "\n",
            "Top 10 words for topic #3:\n",
            "['custom', 'report', 'hcm', 'core', 'worked', 'eib', 'reports', 'integrations', 'business', 'workday']\n",
            "\n",
            "\n",
            "Top 10 words for topic #4:\n",
            "['bootstrap', 'technologies', 'css3', 'developer', 'html', 'ui', 'javascript', 'web', 'js', 'react']\n",
            "\n",
            "\n"
          ]
        }
      ]
    },
    {
      "cell_type": "code",
      "source": [
        "topic_values = LDA.transform(doc_term_matrix)\n",
        "topic_values.shape"
      ],
      "metadata": {
        "colab": {
          "base_uri": "https://localhost:8080/"
        },
        "id": "OMqW-QwV-HLu",
        "outputId": "e9c610d9-6299-464a-fbd3-3be7f70432f9"
      },
      "execution_count": null,
      "outputs": [
        {
          "output_type": "execute_result",
          "data": {
            "text/plain": [
              "(74, 5)"
            ]
          },
          "metadata": {},
          "execution_count": 16
        }
      ]
    },
    {
      "cell_type": "code",
      "source": [
        "data['Topic'] = topic_values.argmax(axis=1)"
      ],
      "metadata": {
        "id": "HEQo_8-R-Lj6"
      },
      "execution_count": null,
      "outputs": []
    },
    {
      "cell_type": "code",
      "source": [
        "data.head(15)"
      ],
      "metadata": {
        "colab": {
          "base_uri": "https://localhost:8080/",
          "height": 520
        },
        "id": "kMWhtYfI-P_D",
        "outputId": "50008c86-e036-4671-d5ef-dae87d08adca"
      },
      "execution_count": null,
      "outputs": [
        {
          "output_type": "execute_result",
          "data": {
            "text/plain": [
              "    S.No organization  Category  \\\n",
              "0      1   PeopleSoft       NaN   \n",
              "1      2   PeopleSoft       NaN   \n",
              "2      3   PeopleSoft       NaN   \n",
              "3      4   PeopleSoft       NaN   \n",
              "4      5   PeopleSoft       NaN   \n",
              "5      6   PeopleSoft       NaN   \n",
              "6      7   PeopleSoft       NaN   \n",
              "7      8   PeopleSoft       NaN   \n",
              "8      9   PeopleSoft       NaN   \n",
              "9     10   PeopleSoft       NaN   \n",
              "10    11   PeopleSoft       NaN   \n",
              "11    12   PeopleSoft       NaN   \n",
              "12    13   PeopleSoft       NaN   \n",
              "13    14   PeopleSoft       NaN   \n",
              "14    15   PeopleSoft       NaN   \n",
              "\n",
              "                                                 text  Topic  \n",
              "0   Anubhav Kumar Singh  \\n\\n  To work in a global...      2  \n",
              "1   Profile Summary:          \\n?7+ years of exper...      2  \n",
              "2   PeopleSoft Database Administrator\\n           ...      2  \n",
              "3   Murali\\n\\nExperience Summary \\n\\nI have 6 year...      2  \n",
              "4   Priyanka Ramadoss\\n61/46, MountPleasant, \\nCoo...      2  \n",
              "5   PROFILE SUMMARY\\n\\nI have overall 6.8 years’ e...      2  \n",
              "6   PEOPLESOFT Administrator\\n\\n\\nSRINIVAS.K      ...      2  \n",
              "7    PeopleSoft Admin\\nVARKALA VIKAS\\n\\nCareer Obj...      2  \n",
              "8   Vinod Akkala                                  ...      2  \n",
              "9        PeopleSoft Admin/PeopleSoft DBA\\n\\nGanesh...      2  \n",
              "10  PeopleSoft Administration\\n \\nVivekanand Sayan...      2  \n",
              "11  Arun Venu\\n\\n  EXPERIENCE SUMMARY \\n\\n?Experie...      1  \n",
              "12  Personal Details  \\nName Pritam Biswas\\nDate O...      1  \n",
              "13  Rahul Ahuja\\n---------------------------------...      1  \n",
              "14  \\nPROFESSIONAL SUMMARY\\nHaving 4.6 years of ex...      0  "
            ],
            "text/html": [
              "\n",
              "  <div id=\"df-612556b2-83db-4034-9e55-cc45b6ff2f07\">\n",
              "    <div class=\"colab-df-container\">\n",
              "      <div>\n",
              "<style scoped>\n",
              "    .dataframe tbody tr th:only-of-type {\n",
              "        vertical-align: middle;\n",
              "    }\n",
              "\n",
              "    .dataframe tbody tr th {\n",
              "        vertical-align: top;\n",
              "    }\n",
              "\n",
              "    .dataframe thead th {\n",
              "        text-align: right;\n",
              "    }\n",
              "</style>\n",
              "<table border=\"1\" class=\"dataframe\">\n",
              "  <thead>\n",
              "    <tr style=\"text-align: right;\">\n",
              "      <th></th>\n",
              "      <th>S.No</th>\n",
              "      <th>organization</th>\n",
              "      <th>Category</th>\n",
              "      <th>text</th>\n",
              "      <th>Topic</th>\n",
              "    </tr>\n",
              "  </thead>\n",
              "  <tbody>\n",
              "    <tr>\n",
              "      <th>0</th>\n",
              "      <td>1</td>\n",
              "      <td>PeopleSoft</td>\n",
              "      <td>NaN</td>\n",
              "      <td>Anubhav Kumar Singh  \\n\\n  To work in a global...</td>\n",
              "      <td>2</td>\n",
              "    </tr>\n",
              "    <tr>\n",
              "      <th>1</th>\n",
              "      <td>2</td>\n",
              "      <td>PeopleSoft</td>\n",
              "      <td>NaN</td>\n",
              "      <td>Profile Summary:          \\n?7+ years of exper...</td>\n",
              "      <td>2</td>\n",
              "    </tr>\n",
              "    <tr>\n",
              "      <th>2</th>\n",
              "      <td>3</td>\n",
              "      <td>PeopleSoft</td>\n",
              "      <td>NaN</td>\n",
              "      <td>PeopleSoft Database Administrator\\n           ...</td>\n",
              "      <td>2</td>\n",
              "    </tr>\n",
              "    <tr>\n",
              "      <th>3</th>\n",
              "      <td>4</td>\n",
              "      <td>PeopleSoft</td>\n",
              "      <td>NaN</td>\n",
              "      <td>Murali\\n\\nExperience Summary \\n\\nI have 6 year...</td>\n",
              "      <td>2</td>\n",
              "    </tr>\n",
              "    <tr>\n",
              "      <th>4</th>\n",
              "      <td>5</td>\n",
              "      <td>PeopleSoft</td>\n",
              "      <td>NaN</td>\n",
              "      <td>Priyanka Ramadoss\\n61/46, MountPleasant, \\nCoo...</td>\n",
              "      <td>2</td>\n",
              "    </tr>\n",
              "    <tr>\n",
              "      <th>5</th>\n",
              "      <td>6</td>\n",
              "      <td>PeopleSoft</td>\n",
              "      <td>NaN</td>\n",
              "      <td>PROFILE SUMMARY\\n\\nI have overall 6.8 years’ e...</td>\n",
              "      <td>2</td>\n",
              "    </tr>\n",
              "    <tr>\n",
              "      <th>6</th>\n",
              "      <td>7</td>\n",
              "      <td>PeopleSoft</td>\n",
              "      <td>NaN</td>\n",
              "      <td>PEOPLESOFT Administrator\\n\\n\\nSRINIVAS.K      ...</td>\n",
              "      <td>2</td>\n",
              "    </tr>\n",
              "    <tr>\n",
              "      <th>7</th>\n",
              "      <td>8</td>\n",
              "      <td>PeopleSoft</td>\n",
              "      <td>NaN</td>\n",
              "      <td>PeopleSoft Admin\\nVARKALA VIKAS\\n\\nCareer Obj...</td>\n",
              "      <td>2</td>\n",
              "    </tr>\n",
              "    <tr>\n",
              "      <th>8</th>\n",
              "      <td>9</td>\n",
              "      <td>PeopleSoft</td>\n",
              "      <td>NaN</td>\n",
              "      <td>Vinod Akkala                                  ...</td>\n",
              "      <td>2</td>\n",
              "    </tr>\n",
              "    <tr>\n",
              "      <th>9</th>\n",
              "      <td>10</td>\n",
              "      <td>PeopleSoft</td>\n",
              "      <td>NaN</td>\n",
              "      <td>PeopleSoft Admin/PeopleSoft DBA\\n\\nGanesh...</td>\n",
              "      <td>2</td>\n",
              "    </tr>\n",
              "    <tr>\n",
              "      <th>10</th>\n",
              "      <td>11</td>\n",
              "      <td>PeopleSoft</td>\n",
              "      <td>NaN</td>\n",
              "      <td>PeopleSoft Administration\\n \\nVivekanand Sayan...</td>\n",
              "      <td>2</td>\n",
              "    </tr>\n",
              "    <tr>\n",
              "      <th>11</th>\n",
              "      <td>12</td>\n",
              "      <td>PeopleSoft</td>\n",
              "      <td>NaN</td>\n",
              "      <td>Arun Venu\\n\\n  EXPERIENCE SUMMARY \\n\\n?Experie...</td>\n",
              "      <td>1</td>\n",
              "    </tr>\n",
              "    <tr>\n",
              "      <th>12</th>\n",
              "      <td>13</td>\n",
              "      <td>PeopleSoft</td>\n",
              "      <td>NaN</td>\n",
              "      <td>Personal Details  \\nName Pritam Biswas\\nDate O...</td>\n",
              "      <td>1</td>\n",
              "    </tr>\n",
              "    <tr>\n",
              "      <th>13</th>\n",
              "      <td>14</td>\n",
              "      <td>PeopleSoft</td>\n",
              "      <td>NaN</td>\n",
              "      <td>Rahul Ahuja\\n---------------------------------...</td>\n",
              "      <td>1</td>\n",
              "    </tr>\n",
              "    <tr>\n",
              "      <th>14</th>\n",
              "      <td>15</td>\n",
              "      <td>PeopleSoft</td>\n",
              "      <td>NaN</td>\n",
              "      <td>\\nPROFESSIONAL SUMMARY\\nHaving 4.6 years of ex...</td>\n",
              "      <td>0</td>\n",
              "    </tr>\n",
              "  </tbody>\n",
              "</table>\n",
              "</div>\n",
              "      <button class=\"colab-df-convert\" onclick=\"convertToInteractive('df-612556b2-83db-4034-9e55-cc45b6ff2f07')\"\n",
              "              title=\"Convert this dataframe to an interactive table.\"\n",
              "              style=\"display:none;\">\n",
              "        \n",
              "  <svg xmlns=\"http://www.w3.org/2000/svg\" height=\"24px\"viewBox=\"0 0 24 24\"\n",
              "       width=\"24px\">\n",
              "    <path d=\"M0 0h24v24H0V0z\" fill=\"none\"/>\n",
              "    <path d=\"M18.56 5.44l.94 2.06.94-2.06 2.06-.94-2.06-.94-.94-2.06-.94 2.06-2.06.94zm-11 1L8.5 8.5l.94-2.06 2.06-.94-2.06-.94L8.5 2.5l-.94 2.06-2.06.94zm10 10l.94 2.06.94-2.06 2.06-.94-2.06-.94-.94-2.06-.94 2.06-2.06.94z\"/><path d=\"M17.41 7.96l-1.37-1.37c-.4-.4-.92-.59-1.43-.59-.52 0-1.04.2-1.43.59L10.3 9.45l-7.72 7.72c-.78.78-.78 2.05 0 2.83L4 21.41c.39.39.9.59 1.41.59.51 0 1.02-.2 1.41-.59l7.78-7.78 2.81-2.81c.8-.78.8-2.07 0-2.86zM5.41 20L4 18.59l7.72-7.72 1.47 1.35L5.41 20z\"/>\n",
              "  </svg>\n",
              "      </button>\n",
              "      \n",
              "  <style>\n",
              "    .colab-df-container {\n",
              "      display:flex;\n",
              "      flex-wrap:wrap;\n",
              "      gap: 12px;\n",
              "    }\n",
              "\n",
              "    .colab-df-convert {\n",
              "      background-color: #E8F0FE;\n",
              "      border: none;\n",
              "      border-radius: 50%;\n",
              "      cursor: pointer;\n",
              "      display: none;\n",
              "      fill: #1967D2;\n",
              "      height: 32px;\n",
              "      padding: 0 0 0 0;\n",
              "      width: 32px;\n",
              "    }\n",
              "\n",
              "    .colab-df-convert:hover {\n",
              "      background-color: #E2EBFA;\n",
              "      box-shadow: 0px 1px 2px rgba(60, 64, 67, 0.3), 0px 1px 3px 1px rgba(60, 64, 67, 0.15);\n",
              "      fill: #174EA6;\n",
              "    }\n",
              "\n",
              "    [theme=dark] .colab-df-convert {\n",
              "      background-color: #3B4455;\n",
              "      fill: #D2E3FC;\n",
              "    }\n",
              "\n",
              "    [theme=dark] .colab-df-convert:hover {\n",
              "      background-color: #434B5C;\n",
              "      box-shadow: 0px 1px 3px 1px rgba(0, 0, 0, 0.15);\n",
              "      filter: drop-shadow(0px 1px 2px rgba(0, 0, 0, 0.3));\n",
              "      fill: #FFFFFF;\n",
              "    }\n",
              "  </style>\n",
              "\n",
              "      <script>\n",
              "        const buttonEl =\n",
              "          document.querySelector('#df-612556b2-83db-4034-9e55-cc45b6ff2f07 button.colab-df-convert');\n",
              "        buttonEl.style.display =\n",
              "          google.colab.kernel.accessAllowed ? 'block' : 'none';\n",
              "\n",
              "        async function convertToInteractive(key) {\n",
              "          const element = document.querySelector('#df-612556b2-83db-4034-9e55-cc45b6ff2f07');\n",
              "          const dataTable =\n",
              "            await google.colab.kernel.invokeFunction('convertToInteractive',\n",
              "                                                     [key], {});\n",
              "          if (!dataTable) return;\n",
              "\n",
              "          const docLinkHtml = 'Like what you see? Visit the ' +\n",
              "            '<a target=\"_blank\" href=https://colab.research.google.com/notebooks/data_table.ipynb>data table notebook</a>'\n",
              "            + ' to learn more about interactive tables.';\n",
              "          element.innerHTML = '';\n",
              "          dataTable['output_type'] = 'display_data';\n",
              "          await google.colab.output.renderOutput(dataTable, element);\n",
              "          const docLink = document.createElement('div');\n",
              "          docLink.innerHTML = docLinkHtml;\n",
              "          element.appendChild(docLink);\n",
              "        }\n",
              "      </script>\n",
              "    </div>\n",
              "  </div>\n",
              "  "
            ]
          },
          "metadata": {},
          "execution_count": 18
        }
      ]
    },
    {
      "cell_type": "markdown",
      "source": [
        "# NMF for Topic Modeling "
      ],
      "metadata": {
        "id": "QKVc8XOp-yYk"
      }
    },
    {
      "cell_type": "code",
      "source": [
        "import pandas as pd\n",
        "import numpy as np\n",
        "\n",
        "data = pd.read_csv('Data.csv',sep=\",\", encoding='cp1252')\n",
        "data = data.head()\n",
        "data.dropna()\n",
        "data"
      ],
      "metadata": {
        "colab": {
          "base_uri": "https://localhost:8080/",
          "height": 206
        },
        "id": "I2psEXq6-0yC",
        "outputId": "85025886-9563-4c12-d4a1-7e0010feaab7"
      },
      "execution_count": null,
      "outputs": [
        {
          "output_type": "execute_result",
          "data": {
            "text/plain": [
              "   S.No organization  Category  \\\n",
              "0     1   PeopleSoft       NaN   \n",
              "1     2   PeopleSoft       NaN   \n",
              "2     3   PeopleSoft       NaN   \n",
              "3     4   PeopleSoft       NaN   \n",
              "4     5   PeopleSoft       NaN   \n",
              "\n",
              "                                                text  \n",
              "0  Anubhav Kumar Singh  \\n\\n  To work in a global...  \n",
              "1  Profile Summary:          \\n?7+ years of exper...  \n",
              "2  PeopleSoft Database Administrator\\n           ...  \n",
              "3  Murali\\n\\nExperience Summary \\n\\nI have 6 year...  \n",
              "4  Priyanka Ramadoss\\n61/46, MountPleasant, \\nCoo...  "
            ],
            "text/html": [
              "\n",
              "  <div id=\"df-cc9bfe36-00f0-4d04-89f6-7a24ad43d9d6\">\n",
              "    <div class=\"colab-df-container\">\n",
              "      <div>\n",
              "<style scoped>\n",
              "    .dataframe tbody tr th:only-of-type {\n",
              "        vertical-align: middle;\n",
              "    }\n",
              "\n",
              "    .dataframe tbody tr th {\n",
              "        vertical-align: top;\n",
              "    }\n",
              "\n",
              "    .dataframe thead th {\n",
              "        text-align: right;\n",
              "    }\n",
              "</style>\n",
              "<table border=\"1\" class=\"dataframe\">\n",
              "  <thead>\n",
              "    <tr style=\"text-align: right;\">\n",
              "      <th></th>\n",
              "      <th>S.No</th>\n",
              "      <th>organization</th>\n",
              "      <th>Category</th>\n",
              "      <th>text</th>\n",
              "    </tr>\n",
              "  </thead>\n",
              "  <tbody>\n",
              "    <tr>\n",
              "      <th>0</th>\n",
              "      <td>1</td>\n",
              "      <td>PeopleSoft</td>\n",
              "      <td>NaN</td>\n",
              "      <td>Anubhav Kumar Singh  \\n\\n  To work in a global...</td>\n",
              "    </tr>\n",
              "    <tr>\n",
              "      <th>1</th>\n",
              "      <td>2</td>\n",
              "      <td>PeopleSoft</td>\n",
              "      <td>NaN</td>\n",
              "      <td>Profile Summary:          \\n?7+ years of exper...</td>\n",
              "    </tr>\n",
              "    <tr>\n",
              "      <th>2</th>\n",
              "      <td>3</td>\n",
              "      <td>PeopleSoft</td>\n",
              "      <td>NaN</td>\n",
              "      <td>PeopleSoft Database Administrator\\n           ...</td>\n",
              "    </tr>\n",
              "    <tr>\n",
              "      <th>3</th>\n",
              "      <td>4</td>\n",
              "      <td>PeopleSoft</td>\n",
              "      <td>NaN</td>\n",
              "      <td>Murali\\n\\nExperience Summary \\n\\nI have 6 year...</td>\n",
              "    </tr>\n",
              "    <tr>\n",
              "      <th>4</th>\n",
              "      <td>5</td>\n",
              "      <td>PeopleSoft</td>\n",
              "      <td>NaN</td>\n",
              "      <td>Priyanka Ramadoss\\n61/46, MountPleasant, \\nCoo...</td>\n",
              "    </tr>\n",
              "  </tbody>\n",
              "</table>\n",
              "</div>\n",
              "      <button class=\"colab-df-convert\" onclick=\"convertToInteractive('df-cc9bfe36-00f0-4d04-89f6-7a24ad43d9d6')\"\n",
              "              title=\"Convert this dataframe to an interactive table.\"\n",
              "              style=\"display:none;\">\n",
              "        \n",
              "  <svg xmlns=\"http://www.w3.org/2000/svg\" height=\"24px\"viewBox=\"0 0 24 24\"\n",
              "       width=\"24px\">\n",
              "    <path d=\"M0 0h24v24H0V0z\" fill=\"none\"/>\n",
              "    <path d=\"M18.56 5.44l.94 2.06.94-2.06 2.06-.94-2.06-.94-.94-2.06-.94 2.06-2.06.94zm-11 1L8.5 8.5l.94-2.06 2.06-.94-2.06-.94L8.5 2.5l-.94 2.06-2.06.94zm10 10l.94 2.06.94-2.06 2.06-.94-2.06-.94-.94-2.06-.94 2.06-2.06.94z\"/><path d=\"M17.41 7.96l-1.37-1.37c-.4-.4-.92-.59-1.43-.59-.52 0-1.04.2-1.43.59L10.3 9.45l-7.72 7.72c-.78.78-.78 2.05 0 2.83L4 21.41c.39.39.9.59 1.41.59.51 0 1.02-.2 1.41-.59l7.78-7.78 2.81-2.81c.8-.78.8-2.07 0-2.86zM5.41 20L4 18.59l7.72-7.72 1.47 1.35L5.41 20z\"/>\n",
              "  </svg>\n",
              "      </button>\n",
              "      \n",
              "  <style>\n",
              "    .colab-df-container {\n",
              "      display:flex;\n",
              "      flex-wrap:wrap;\n",
              "      gap: 12px;\n",
              "    }\n",
              "\n",
              "    .colab-df-convert {\n",
              "      background-color: #E8F0FE;\n",
              "      border: none;\n",
              "      border-radius: 50%;\n",
              "      cursor: pointer;\n",
              "      display: none;\n",
              "      fill: #1967D2;\n",
              "      height: 32px;\n",
              "      padding: 0 0 0 0;\n",
              "      width: 32px;\n",
              "    }\n",
              "\n",
              "    .colab-df-convert:hover {\n",
              "      background-color: #E2EBFA;\n",
              "      box-shadow: 0px 1px 2px rgba(60, 64, 67, 0.3), 0px 1px 3px 1px rgba(60, 64, 67, 0.15);\n",
              "      fill: #174EA6;\n",
              "    }\n",
              "\n",
              "    [theme=dark] .colab-df-convert {\n",
              "      background-color: #3B4455;\n",
              "      fill: #D2E3FC;\n",
              "    }\n",
              "\n",
              "    [theme=dark] .colab-df-convert:hover {\n",
              "      background-color: #434B5C;\n",
              "      box-shadow: 0px 1px 3px 1px rgba(0, 0, 0, 0.15);\n",
              "      filter: drop-shadow(0px 1px 2px rgba(0, 0, 0, 0.3));\n",
              "      fill: #FFFFFF;\n",
              "    }\n",
              "  </style>\n",
              "\n",
              "      <script>\n",
              "        const buttonEl =\n",
              "          document.querySelector('#df-cc9bfe36-00f0-4d04-89f6-7a24ad43d9d6 button.colab-df-convert');\n",
              "        buttonEl.style.display =\n",
              "          google.colab.kernel.accessAllowed ? 'block' : 'none';\n",
              "\n",
              "        async function convertToInteractive(key) {\n",
              "          const element = document.querySelector('#df-cc9bfe36-00f0-4d04-89f6-7a24ad43d9d6');\n",
              "          const dataTable =\n",
              "            await google.colab.kernel.invokeFunction('convertToInteractive',\n",
              "                                                     [key], {});\n",
              "          if (!dataTable) return;\n",
              "\n",
              "          const docLinkHtml = 'Like what you see? Visit the ' +\n",
              "            '<a target=\"_blank\" href=https://colab.research.google.com/notebooks/data_table.ipynb>data table notebook</a>'\n",
              "            + ' to learn more about interactive tables.';\n",
              "          element.innerHTML = '';\n",
              "          dataTable['output_type'] = 'display_data';\n",
              "          await google.colab.output.renderOutput(dataTable, element);\n",
              "          const docLink = document.createElement('div');\n",
              "          docLink.innerHTML = docLinkHtml;\n",
              "          element.appendChild(docLink);\n",
              "        }\n",
              "      </script>\n",
              "    </div>\n",
              "  </div>\n",
              "  "
            ]
          },
          "metadata": {},
          "execution_count": 19
        }
      ]
    },
    {
      "cell_type": "code",
      "source": [
        "from sklearn.feature_extraction.text import TfidfVectorizer\n",
        "\n",
        "tfidf_vect = TfidfVectorizer(max_df=0.8, min_df=2, stop_words='english')\n",
        "doc_term_matrix = tfidf_vect.fit_transform(data['text'].values.astype('U'))"
      ],
      "metadata": {
        "id": "QwoCAKOz_PQW"
      },
      "execution_count": null,
      "outputs": []
    },
    {
      "cell_type": "code",
      "source": [
        "from sklearn.decomposition import NMF\n",
        "\n",
        "nmf = NMF(n_components=5, random_state=42)\n",
        "nmf.fit(doc_term_matrix )"
      ],
      "metadata": {
        "colab": {
          "base_uri": "https://localhost:8080/"
        },
        "id": "1mFliZaP_VY1",
        "outputId": "3ff24da7-96f7-4e2f-ec25-3a633c6c2fef"
      },
      "execution_count": null,
      "outputs": [
        {
          "output_type": "execute_result",
          "data": {
            "text/plain": [
              "NMF(n_components=5, random_state=42)"
            ]
          },
          "metadata": {},
          "execution_count": 22
        }
      ]
    },
    {
      "cell_type": "code",
      "source": [
        "import random\n",
        "\n",
        "for i in range(10):\n",
        "    random_id = random.randint(0,len(tfidf_vect.get_feature_names()))\n",
        "    print(tfidf_vect.get_feature_names()[random_id])"
      ],
      "metadata": {
        "colab": {
          "base_uri": "https://localhost:8080/"
        },
        "id": "RgH7rmTl_ZE-",
        "outputId": "004ef4bc-80b1-4332-fc17-1b69e1fb4972"
      },
      "execution_count": null,
      "outputs": [
        {
          "output_type": "stream",
          "name": "stdout",
          "text": [
            "latest\n",
            "designer\n",
            "elm\n",
            "installing\n",
            "pvt\n",
            "challenging\n",
            "files\n",
            "having\n",
            "linux\n",
            "tier\n"
          ]
        }
      ]
    },
    {
      "cell_type": "code",
      "source": [
        "first_topic = nmf.components_[0]\n",
        "top_topic_words = first_topic.argsort()[-10:]"
      ],
      "metadata": {
        "id": "ZAJHa8su_drc"
      },
      "execution_count": null,
      "outputs": []
    },
    {
      "cell_type": "code",
      "source": [
        "for i in top_topic_words:\n",
        "    print(tfidf_vect.get_feature_names()[i])"
      ],
      "metadata": {
        "colab": {
          "base_uri": "https://localhost:8080/"
        },
        "id": "wHpcKqe__g5J",
        "outputId": "bc1847bf-7563-44b9-daa2-1ce39732f3e6"
      },
      "execution_count": null,
      "outputs": [
        {
          "output_type": "stream",
          "name": "stdout",
          "text": [
            "administrator\n",
            "multiple\n",
            "management\n",
            "taking\n",
            "professional\n",
            "sql\n",
            "installed\n",
            "dba\n",
            "configured\n",
            "oracle\n"
          ]
        }
      ]
    },
    {
      "cell_type": "code",
      "source": [
        "for i,topic in enumerate(nmf.components_):\n",
        "    print(f'Top 10 words for topic #{i}:')\n",
        "    print([tfidf_vect.get_feature_names()[i] for i in topic.argsort()[-10:]])\n",
        "    print('\\n')"
      ],
      "metadata": {
        "colab": {
          "base_uri": "https://localhost:8080/"
        },
        "id": "4ABeI1e0_iuM",
        "outputId": "4b56934b-6bf5-4447-c6fc-389046b218aa"
      },
      "execution_count": null,
      "outputs": [
        {
          "output_type": "stream",
          "name": "stdout",
          "text": [
            "Top 10 words for topic #0:\n",
            "['administrator', 'multiple', 'management', 'taking', 'professional', 'sql', 'installed', 'dba', 'configured', 'oracle']\n",
            "\n",
            "\n",
            "Top 10 words for topic #1:\n",
            "['monitoring', 'batch', 'worked', 'control', 'management', 'services', 'non', 'profile', '2016', 'databases']\n",
            "\n",
            "\n",
            "Top 10 words for topic #2:\n",
            "['weekly', 'performing', 'support', 'issues', 'reporting', 'platforms', 'various', 'related', 'hcm', 'involved']\n",
            "\n",
            "\n",
            "Top 10 words for topic #3:\n",
            "['knowledge', 'admin', 'support', 'working', 'peopletools', 'various', 'applications', 'linux', 'new', 'upgrade']\n",
            "\n",
            "\n",
            "Top 10 words for topic #4:\n",
            "['tier', 'users', 'performing', 'oracle', 'updates', 'troubleshooting', 'fixes', 'dba', 'performed', 'issues']\n",
            "\n",
            "\n"
          ]
        }
      ]
    },
    {
      "cell_type": "code",
      "source": [
        "topic_values = nmf.transform(doc_term_matrix)\n",
        "data['Topic'] = topic_values.argmax(axis=1)\n",
        "data.head()"
      ],
      "metadata": {
        "colab": {
          "base_uri": "https://localhost:8080/",
          "height": 206
        },
        "id": "98T8lPKE_rgH",
        "outputId": "017dd1b5-7715-4eb9-c9d4-100e3f32b25a"
      },
      "execution_count": null,
      "outputs": [
        {
          "output_type": "execute_result",
          "data": {
            "text/plain": [
              "   S.No organization  Category  \\\n",
              "0     1   PeopleSoft       NaN   \n",
              "1     2   PeopleSoft       NaN   \n",
              "2     3   PeopleSoft       NaN   \n",
              "3     4   PeopleSoft       NaN   \n",
              "4     5   PeopleSoft       NaN   \n",
              "\n",
              "                                                text  Topic  \n",
              "0  Anubhav Kumar Singh  \\n\\n  To work in a global...      3  \n",
              "1  Profile Summary:          \\n?7+ years of exper...      4  \n",
              "2  PeopleSoft Database Administrator\\n           ...      0  \n",
              "3  Murali\\n\\nExperience Summary \\n\\nI have 6 year...      2  \n",
              "4  Priyanka Ramadoss\\n61/46, MountPleasant, \\nCoo...      1  "
            ],
            "text/html": [
              "\n",
              "  <div id=\"df-bb06cf0c-9523-49ee-b08a-6dcce7a4a4ef\">\n",
              "    <div class=\"colab-df-container\">\n",
              "      <div>\n",
              "<style scoped>\n",
              "    .dataframe tbody tr th:only-of-type {\n",
              "        vertical-align: middle;\n",
              "    }\n",
              "\n",
              "    .dataframe tbody tr th {\n",
              "        vertical-align: top;\n",
              "    }\n",
              "\n",
              "    .dataframe thead th {\n",
              "        text-align: right;\n",
              "    }\n",
              "</style>\n",
              "<table border=\"1\" class=\"dataframe\">\n",
              "  <thead>\n",
              "    <tr style=\"text-align: right;\">\n",
              "      <th></th>\n",
              "      <th>S.No</th>\n",
              "      <th>organization</th>\n",
              "      <th>Category</th>\n",
              "      <th>text</th>\n",
              "      <th>Topic</th>\n",
              "    </tr>\n",
              "  </thead>\n",
              "  <tbody>\n",
              "    <tr>\n",
              "      <th>0</th>\n",
              "      <td>1</td>\n",
              "      <td>PeopleSoft</td>\n",
              "      <td>NaN</td>\n",
              "      <td>Anubhav Kumar Singh  \\n\\n  To work in a global...</td>\n",
              "      <td>3</td>\n",
              "    </tr>\n",
              "    <tr>\n",
              "      <th>1</th>\n",
              "      <td>2</td>\n",
              "      <td>PeopleSoft</td>\n",
              "      <td>NaN</td>\n",
              "      <td>Profile Summary:          \\n?7+ years of exper...</td>\n",
              "      <td>4</td>\n",
              "    </tr>\n",
              "    <tr>\n",
              "      <th>2</th>\n",
              "      <td>3</td>\n",
              "      <td>PeopleSoft</td>\n",
              "      <td>NaN</td>\n",
              "      <td>PeopleSoft Database Administrator\\n           ...</td>\n",
              "      <td>0</td>\n",
              "    </tr>\n",
              "    <tr>\n",
              "      <th>3</th>\n",
              "      <td>4</td>\n",
              "      <td>PeopleSoft</td>\n",
              "      <td>NaN</td>\n",
              "      <td>Murali\\n\\nExperience Summary \\n\\nI have 6 year...</td>\n",
              "      <td>2</td>\n",
              "    </tr>\n",
              "    <tr>\n",
              "      <th>4</th>\n",
              "      <td>5</td>\n",
              "      <td>PeopleSoft</td>\n",
              "      <td>NaN</td>\n",
              "      <td>Priyanka Ramadoss\\n61/46, MountPleasant, \\nCoo...</td>\n",
              "      <td>1</td>\n",
              "    </tr>\n",
              "  </tbody>\n",
              "</table>\n",
              "</div>\n",
              "      <button class=\"colab-df-convert\" onclick=\"convertToInteractive('df-bb06cf0c-9523-49ee-b08a-6dcce7a4a4ef')\"\n",
              "              title=\"Convert this dataframe to an interactive table.\"\n",
              "              style=\"display:none;\">\n",
              "        \n",
              "  <svg xmlns=\"http://www.w3.org/2000/svg\" height=\"24px\"viewBox=\"0 0 24 24\"\n",
              "       width=\"24px\">\n",
              "    <path d=\"M0 0h24v24H0V0z\" fill=\"none\"/>\n",
              "    <path d=\"M18.56 5.44l.94 2.06.94-2.06 2.06-.94-2.06-.94-.94-2.06-.94 2.06-2.06.94zm-11 1L8.5 8.5l.94-2.06 2.06-.94-2.06-.94L8.5 2.5l-.94 2.06-2.06.94zm10 10l.94 2.06.94-2.06 2.06-.94-2.06-.94-.94-2.06-.94 2.06-2.06.94z\"/><path d=\"M17.41 7.96l-1.37-1.37c-.4-.4-.92-.59-1.43-.59-.52 0-1.04.2-1.43.59L10.3 9.45l-7.72 7.72c-.78.78-.78 2.05 0 2.83L4 21.41c.39.39.9.59 1.41.59.51 0 1.02-.2 1.41-.59l7.78-7.78 2.81-2.81c.8-.78.8-2.07 0-2.86zM5.41 20L4 18.59l7.72-7.72 1.47 1.35L5.41 20z\"/>\n",
              "  </svg>\n",
              "      </button>\n",
              "      \n",
              "  <style>\n",
              "    .colab-df-container {\n",
              "      display:flex;\n",
              "      flex-wrap:wrap;\n",
              "      gap: 12px;\n",
              "    }\n",
              "\n",
              "    .colab-df-convert {\n",
              "      background-color: #E8F0FE;\n",
              "      border: none;\n",
              "      border-radius: 50%;\n",
              "      cursor: pointer;\n",
              "      display: none;\n",
              "      fill: #1967D2;\n",
              "      height: 32px;\n",
              "      padding: 0 0 0 0;\n",
              "      width: 32px;\n",
              "    }\n",
              "\n",
              "    .colab-df-convert:hover {\n",
              "      background-color: #E2EBFA;\n",
              "      box-shadow: 0px 1px 2px rgba(60, 64, 67, 0.3), 0px 1px 3px 1px rgba(60, 64, 67, 0.15);\n",
              "      fill: #174EA6;\n",
              "    }\n",
              "\n",
              "    [theme=dark] .colab-df-convert {\n",
              "      background-color: #3B4455;\n",
              "      fill: #D2E3FC;\n",
              "    }\n",
              "\n",
              "    [theme=dark] .colab-df-convert:hover {\n",
              "      background-color: #434B5C;\n",
              "      box-shadow: 0px 1px 3px 1px rgba(0, 0, 0, 0.15);\n",
              "      filter: drop-shadow(0px 1px 2px rgba(0, 0, 0, 0.3));\n",
              "      fill: #FFFFFF;\n",
              "    }\n",
              "  </style>\n",
              "\n",
              "      <script>\n",
              "        const buttonEl =\n",
              "          document.querySelector('#df-bb06cf0c-9523-49ee-b08a-6dcce7a4a4ef button.colab-df-convert');\n",
              "        buttonEl.style.display =\n",
              "          google.colab.kernel.accessAllowed ? 'block' : 'none';\n",
              "\n",
              "        async function convertToInteractive(key) {\n",
              "          const element = document.querySelector('#df-bb06cf0c-9523-49ee-b08a-6dcce7a4a4ef');\n",
              "          const dataTable =\n",
              "            await google.colab.kernel.invokeFunction('convertToInteractive',\n",
              "                                                     [key], {});\n",
              "          if (!dataTable) return;\n",
              "\n",
              "          const docLinkHtml = 'Like what you see? Visit the ' +\n",
              "            '<a target=\"_blank\" href=https://colab.research.google.com/notebooks/data_table.ipynb>data table notebook</a>'\n",
              "            + ' to learn more about interactive tables.';\n",
              "          element.innerHTML = '';\n",
              "          dataTable['output_type'] = 'display_data';\n",
              "          await google.colab.output.renderOutput(dataTable, element);\n",
              "          const docLink = document.createElement('div');\n",
              "          docLink.innerHTML = docLinkHtml;\n",
              "          element.appendChild(docLink);\n",
              "        }\n",
              "      </script>\n",
              "    </div>\n",
              "  </div>\n",
              "  "
            ]
          },
          "metadata": {},
          "execution_count": 27
        }
      ]
    }
  ]
}